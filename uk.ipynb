{
 "cells": [
  {
   "cell_type": "code",
   "execution_count": null,
   "metadata": {},
   "outputs": [],
   "source": [
    "from geojson_rewind import rewind\n",
    "import plotly.express as px\n",
    "import pandas as pd\n",
    "import json\n",
    "from urllib.request import urlopen\n",
    "import numpy as np\n",
    "\n",
    "#Load GeoJson\n",
    "with urlopen('https://opendata.arcgis.com/datasets/48b6b85bb7ea43699ee85f4ecd12fd36_4.geojson') as response:\n",
    "    counties = json.load(response)\n",
    "\n",
    "#Load data to be charted\n",
    "dummy_data = pd.read_csv(\n",
    "    'https://opendata.arcgis.com/datasets/48b6b85bb7ea43699ee85f4ecd12fd36_0.csv?outSR=%7B%22latestWkid%22%3A27700%2C%22wkid%22%3A27700%7D')\n",
    "#add dummy data\n",
    "dummy_data['value'] = np.random.randint(10, 100, size=len(dummy_data))\n",
    "\n",
    "#With Plotly\n",
    "\n",
    "#Make the rings clockwwise (to make it compatible with plotly)\n",
    "counties_corrected = rewind(counties, rfc7946=False)\n",
    "\n",
    "fig = px.choropleth(dummy_data, geojson=counties_corrected, locations='nuts218cd', featureidkey=\"properties.nuts218cd\", color='value',\n",
    "                    color_continuous_scale=\"PurPor\", labels={'label name': 'label name'}, title='MAP TITLE',\n",
    "                    scope=\"europe\")\n",
    "\n",
    "fig.update_geos(fitbounds=\"locations\", visible=False)\n"
   ]
  },
  {
   "cell_type": "code",
   "execution_count": 1,
   "metadata": {},
   "outputs": [],
   "source": [
    "import folium\n",
    "import pandas as pd\n",
    "import json\n",
    "from urllib.request import urlopen\n",
    "import numpy as np\n",
    "\n",
    "\n",
    "#Load GeoJson\n",
    "with urlopen('https://opendata.arcgis.com/datasets/48b6b85bb7ea43699ee85f4ecd12fd36_4.geojson') as response:\n",
    "    counties = json.load(response)\n",
    "\n",
    "#Load data to be charted\n",
    "dummy_data = pd.read_csv(\n",
    "    'https://opendata.arcgis.com/datasets/48b6b85bb7ea43699ee85f4ecd12fd36_0.csv?outSR=%7B%22latestWkid%22%3A27700%2C%22wkid%22%3A27700%7D')\n",
    "#add dummy data\n",
    "dummy_data['value'] = np.random.randint(10, 100, size=len(dummy_data))\n",
    "\n",
    "#With Folium\n",
    "m = folium.Map(tiles='cartodbpositron', location=[\n",
    "               54.38, -2.7], zoom_start=6.499)\n",
    "\n",
    "folium.Choropleth(geo_data=counties, name='choropleth', data=dummy_data, columns=['nuts218cd', 'value'],\n",
    "                  key_on='feature.properties.nuts218cd', fill_color='YlGnBu', fill_opacity=0.7, line_opacity=0.2,\n",
    "                  legend_name='LEGEND', highlight=True).add_to(m)\n",
    "\n",
    "m.save('#folium_chloropleth_UK.html')\n"
   ]
  }
 ],
 "metadata": {
  "interpreter": {
   "hash": "991e8e8a0ba54e144858200f9a97f80a72ff161aa572cc7b1eaece2fe8cd5bd0"
  },
  "kernelspec": {
   "display_name": "Python 3.9.7 64-bit (system)",
   "language": "python",
   "name": "python3"
  },
  "language_info": {
   "codemirror_mode": {
    "name": "ipython",
    "version": 3
   },
   "file_extension": ".py",
   "mimetype": "text/x-python",
   "name": "python",
   "nbconvert_exporter": "python",
   "pygments_lexer": "ipython3",
   "version": "3.9.7"
  },
  "orig_nbformat": 4
 },
 "nbformat": 4,
 "nbformat_minor": 2
}
